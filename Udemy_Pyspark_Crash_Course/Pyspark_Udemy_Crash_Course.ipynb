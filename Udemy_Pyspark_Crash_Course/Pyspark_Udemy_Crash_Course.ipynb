{
  "nbformat": 4,
  "nbformat_minor": 0,
  "metadata": {
    "colab": {
      "provenance": []
    },
    "kernelspec": {
      "name": "python3",
      "display_name": "Python 3"
    },
    "language_info": {
      "name": "python"
    }
  },
  "cells": [
    {
      "cell_type": "code",
      "source": [
        "# Configuration setup (Note : this is an old configuration, lot of changes in the newer spark version)\n",
        "!apt-get install openjdk-8-jdk-headless -qq > /dev/null\n",
        "!wget -q http://archive.apache.org/dist/spark/spark-3.1.1/spark-3.1.1-bin-hadoop3.2.tgz\n",
        "!tar xf spark-3.1.1-bin-hadoop3.2.tgz\n",
        "!pip install -q findspark\n",
        "import os\n",
        "os.environ[\"JAVA_HOME\"] = \"/usr/lib/jvm/java-8-openjdk-amd64\"\n",
        "os.environ[\"SPARK_HOME\"] = \"/content/spark-3.1.1-bin-hadoop3.2\"\n",
        "import findspark\n",
        "findspark.init()\n",
        "from pyspark.sql import SparkSession\n",
        "spark = SparkSession.builder.master(\"local[*]\").getOrCreate()\n",
        "spark"
      ],
      "metadata": {
        "colab": {
          "base_uri": "https://localhost:8080/",
          "height": 221
        },
        "collapsed": true,
        "id": "zCUo2Ny8ay5M",
        "outputId": "8daf1116-b96a-45e6-aba8-dcc90fae51dc"
      },
      "execution_count": 7,
      "outputs": [
        {
          "output_type": "execute_result",
          "data": {
            "text/plain": [
              "<pyspark.sql.session.SparkSession at 0x7c3cfecf8ee0>"
            ],
            "text/html": [
              "\n",
              "            <div>\n",
              "                <p><b>SparkSession - in-memory</b></p>\n",
              "                \n",
              "        <div>\n",
              "            <p><b>SparkContext</b></p>\n",
              "\n",
              "            <p><a href=\"http://51358a84bdda:4040\">Spark UI</a></p>\n",
              "\n",
              "            <dl>\n",
              "              <dt>Version</dt>\n",
              "                <dd><code>v3.1.1</code></dd>\n",
              "              <dt>Master</dt>\n",
              "                <dd><code>local[*]</code></dd>\n",
              "              <dt>AppName</dt>\n",
              "                <dd><code>pyspark-shell</code></dd>\n",
              "            </dl>\n",
              "        </div>\n",
              "        \n",
              "            </div>\n",
              "        "
            ]
          },
          "metadata": {},
          "execution_count": 7
        }
      ]
    },
    {
      "cell_type": "code",
      "source": [
        "import os\n",
        "cwd = os.getcwd()\n",
        "print(\"Current working directory = \", cwd)"
      ],
      "metadata": {
        "colab": {
          "base_uri": "https://localhost:8080/"
        },
        "collapsed": true,
        "id": "FH_33g6SbD0d",
        "outputId": "a2a8d20b-c03f-481f-bee7-9b900a0860ae"
      },
      "execution_count": 8,
      "outputs": [
        {
          "output_type": "stream",
          "name": "stdout",
          "text": [
            "Current working directory =  /content\n"
          ]
        }
      ]
    },
    {
      "cell_type": "code",
      "source": [
        "os.listdir()"
      ],
      "metadata": {
        "colab": {
          "base_uri": "https://localhost:8080/"
        },
        "collapsed": true,
        "id": "2fEa6nTCbOXR",
        "outputId": "91ece1a7-87a2-4a35-bea4-e869b254382a"
      },
      "execution_count": 9,
      "outputs": [
        {
          "output_type": "execute_result",
          "data": {
            "text/plain": [
              "['.config',\n",
              " 'spark-3.1.1-bin-hadoop3.2.tgz',\n",
              " 'challenge.csv',\n",
              " 'spark-3.1.1-bin-hadoop3.2',\n",
              " '.ipynb_checkpoints',\n",
              " 'sample_data']"
            ]
          },
          "metadata": {},
          "execution_count": 9
        }
      ]
    },
    {
      "cell_type": "code",
      "source": [
        "# Read and prep data\n",
        "from pyspark.sql.types import *\n",
        "schema = StructType([\n",
        "    StructField('ip_address', StringType()),\n",
        "    StructField('Country', StringType()),\n",
        "    StructField('Domain Name', StringType()),\n",
        "    StructField('Bytes_used', IntegerType())\n",
        "])\n",
        "df = spark.read.csv(\"challenge.csv\", header = True, schema=schema)\n",
        "df.head(6)\n",
        "df.printSchema()"
      ],
      "metadata": {
        "id": "UzX4evmfbuQ6"
      },
      "execution_count": null,
      "outputs": []
    },
    {
      "cell_type": "code",
      "source": [
        "from pyspark.sql.functions import *"
      ],
      "metadata": {
        "id": "mL_vOOD8dczR"
      },
      "execution_count": 24,
      "outputs": []
    },
    {
      "cell_type": "code",
      "source": [
        "# Add a column to say yes or no to whether the country is Mexico.\n",
        "ans_1 = df.withColumn(\"isCountryMexico\", when(df.Country == 'Mexico', 'YES').otherwise('NO'))\n",
        "ans_1.show()"
      ],
      "metadata": {
        "colab": {
          "base_uri": "https://localhost:8080/"
        },
        "collapsed": true,
        "id": "UqNbW-LccPAs",
        "outputId": "a8dc0809-4ed7-4506-fdc3-37add6fea4e6"
      },
      "execution_count": 25,
      "outputs": [
        {
          "output_type": "stream",
          "name": "stdout",
          "text": [
            "+---------------+--------------+-----------------+----------+---------------+\n",
            "|     ip_address|       Country|      Domain Name|Bytes_used|isCountryMexico|\n",
            "+---------------+--------------+-----------------+----------+---------------+\n",
            "|  52.81.192.172|         China| odnoklassniki.ru|       463|             NO|\n",
            "| 119.239.207.13|         China|         youtu.be|        51|             NO|\n",
            "|  68.69.217.210|         China|        adobe.com|        10|             NO|\n",
            "|   7.191.21.223|      Bulgaria|     linkedin.com|       853|             NO|\n",
            "|   211.13.10.68|     Indonesia|          hud.gov|        29|             NO|\n",
            "|   239.80.21.97|      Suriname|       smh.com.au|       218|             NO|\n",
            "|106.214.106.233|       Jamaica|    amazonaws.com|        95|             NO|\n",
            "| 127.242.24.138|         China| surveymonkey.com|       123|             NO|\n",
            "|     99.2.6.139|Czech Republic|     geocities.jp|       322|             NO|\n",
            "|   237.54.11.63|         China|       amazon.com|        83|             NO|\n",
            "| 252.141.157.25|         Japan|      cornell.edu|       374|             NO|\n",
            "|185.220.128.248|       Belgium|       weebly.com|       389|             NO|\n",
            "|   151.77.19.45|   Afghanistan|independent.co.uk|       282|             NO|\n",
            "|  9.161.158.225|     Indonesia|    bloglines.com|       726|             NO|\n",
            "| 156.144.61.155|Czech Republic|   slideshare.net|       657|             NO|\n",
            "|   8.96.188.151|     Indonesia|          ibm.com|       517|             NO|\n",
            "|      5.72.7.65|        Mexico|         youtu.be|       877|            YES|\n",
            "|227.110.112.144|       Croatia|         ehow.com|       287|             NO|\n",
            "|    81.71.28.97|      Thailand|          last.fm|       588|             NO|\n",
            "|  9.255.129.184|      Thailand|          mtv.com|       114|             NO|\n",
            "+---------------+--------------+-----------------+----------+---------------+\n",
            "only showing top 20 rows\n",
            "\n"
          ]
        }
      ]
    },
    {
      "cell_type": "code",
      "source": [
        "# Group by your new column and sum bytes used.\n",
        "ans_2 = ans_1.groupBy('isCountryMexico').sum('Bytes_used')\n",
        "ans_2.show()"
      ],
      "metadata": {
        "colab": {
          "base_uri": "https://localhost:8080/"
        },
        "collapsed": true,
        "id": "1gBbR6HGeRVU",
        "outputId": "4c270b3c-5480-41ba-972f-88c577004665"
      },
      "execution_count": 26,
      "outputs": [
        {
          "output_type": "stream",
          "name": "stdout",
          "text": [
            "+---------------+---------------+\n",
            "|isCountryMexico|sum(Bytes_used)|\n",
            "+---------------+---------------+\n",
            "|            YES|           6293|\n",
            "|             NO|         508076|\n",
            "+---------------+---------------+\n",
            "\n"
          ]
        }
      ]
    },
    {
      "cell_type": "code",
      "source": [
        "# Group by country and use the sqlfunc.countDistinct function to calculate the number of IP addresses seen in each country\n",
        "ans_3 = ans_1.groupBy('Country').agg(countDistinct(ans_1.ip_address).alias('number_of_ips'))\n",
        "ans_3.show()"
      ],
      "metadata": {
        "colab": {
          "base_uri": "https://localhost:8080/"
        },
        "collapsed": true,
        "id": "olQFvkPQhF75",
        "outputId": "b259cbf0-3e5d-4721-b87e-c6f6709d7f0e"
      },
      "execution_count": 28,
      "outputs": [
        {
          "output_type": "stream",
          "name": "stdout",
          "text": [
            "+-----------+-------------+\n",
            "|    Country|number_of_ips|\n",
            "+-----------+-------------+\n",
            "|       Chad|            1|\n",
            "|     Russia|           56|\n",
            "|   Paraguay|            1|\n",
            "|      Yemen|            1|\n",
            "|     Sweden|           28|\n",
            "|Philippines|           65|\n",
            "|   Malaysia|            5|\n",
            "|     Turkey|            1|\n",
            "|     Malawi|            2|\n",
            "|    Germany|            5|\n",
            "|    Comoros|            1|\n",
            "|Afghanistan|            5|\n",
            "|     Rwanda|            1|\n",
            "|      Sudan|            1|\n",
            "|     France|           21|\n",
            "|     Greece|            8|\n",
            "|  Sri Lanka|            3|\n",
            "|   Dominica|            1|\n",
            "|  Argentina|           14|\n",
            "|    Belgium|            1|\n",
            "+-----------+-------------+\n",
            "only showing top 20 rows\n",
            "\n"
          ]
        }
      ]
    },
    {
      "cell_type": "code",
      "source": [
        "# Add a column to say yes or no to whether the country is Mexico. (Use only spark sql)\n",
        "df.registerTempTable('challenge')\n",
        "sql_ans_1 = spark.sql('''select *, case when Country = 'Mexico' then 'YES' else 'NO' END as isCountryMexico from challenge''')\n",
        "sql_ans_1.show()"
      ],
      "metadata": {
        "colab": {
          "base_uri": "https://localhost:8080/"
        },
        "collapsed": true,
        "id": "Niko8T3KmplJ",
        "outputId": "40377986-cacd-4cdb-eafc-aed3ff325392"
      },
      "execution_count": 30,
      "outputs": [
        {
          "output_type": "stream",
          "name": "stdout",
          "text": [
            "+---------------+--------------+-----------------+----------+---------------+\n",
            "|     ip_address|       Country|      Domain Name|Bytes_used|isCountryMexico|\n",
            "+---------------+--------------+-----------------+----------+---------------+\n",
            "|  52.81.192.172|         China| odnoklassniki.ru|       463|             NO|\n",
            "| 119.239.207.13|         China|         youtu.be|        51|             NO|\n",
            "|  68.69.217.210|         China|        adobe.com|        10|             NO|\n",
            "|   7.191.21.223|      Bulgaria|     linkedin.com|       853|             NO|\n",
            "|   211.13.10.68|     Indonesia|          hud.gov|        29|             NO|\n",
            "|   239.80.21.97|      Suriname|       smh.com.au|       218|             NO|\n",
            "|106.214.106.233|       Jamaica|    amazonaws.com|        95|             NO|\n",
            "| 127.242.24.138|         China| surveymonkey.com|       123|             NO|\n",
            "|     99.2.6.139|Czech Republic|     geocities.jp|       322|             NO|\n",
            "|   237.54.11.63|         China|       amazon.com|        83|             NO|\n",
            "| 252.141.157.25|         Japan|      cornell.edu|       374|             NO|\n",
            "|185.220.128.248|       Belgium|       weebly.com|       389|             NO|\n",
            "|   151.77.19.45|   Afghanistan|independent.co.uk|       282|             NO|\n",
            "|  9.161.158.225|     Indonesia|    bloglines.com|       726|             NO|\n",
            "| 156.144.61.155|Czech Republic|   slideshare.net|       657|             NO|\n",
            "|   8.96.188.151|     Indonesia|          ibm.com|       517|             NO|\n",
            "|      5.72.7.65|        Mexico|         youtu.be|       877|            YES|\n",
            "|227.110.112.144|       Croatia|         ehow.com|       287|             NO|\n",
            "|    81.71.28.97|      Thailand|          last.fm|       588|             NO|\n",
            "|  9.255.129.184|      Thailand|          mtv.com|       114|             NO|\n",
            "+---------------+--------------+-----------------+----------+---------------+\n",
            "only showing top 20 rows\n",
            "\n"
          ]
        }
      ]
    },
    {
      "cell_type": "code",
      "source": [
        "# Group by your new column and sum bytes used. (Use only spark sql)\n",
        "sql_ans_1.registerTempTable('updated_challenge')\n",
        "sql_ans_2 = spark.sql('''\n",
        "  select\n",
        "    isCountryMexico,\n",
        "    sum(bytes_used)\n",
        "  from updated_challenge\n",
        "  group by isCountryMexico\n",
        "''')\n",
        "sql_ans_2.show()"
      ],
      "metadata": {
        "colab": {
          "base_uri": "https://localhost:8080/"
        },
        "collapsed": true,
        "id": "v-QZ865Xno86",
        "outputId": "420636bb-cbb2-4451-d808-473a7aa902c2"
      },
      "execution_count": 31,
      "outputs": [
        {
          "output_type": "stream",
          "name": "stdout",
          "text": [
            "+---------------+---------------+\n",
            "|isCountryMexico|sum(bytes_used)|\n",
            "+---------------+---------------+\n",
            "|            YES|           6293|\n",
            "|             NO|         508076|\n",
            "+---------------+---------------+\n",
            "\n"
          ]
        }
      ]
    },
    {
      "cell_type": "code",
      "source": [
        "# Group by country and use the sqlfunc.countDistinct function to calculate the number of IP addresses seen in each country\n",
        "sql_ans_3 = spark.sql('''\n",
        "  select\n",
        "    country,\n",
        "    count(distinct(ip_address)),\n",
        "    count(ip_address)\n",
        "  from updated_challenge\n",
        "  group by country\n",
        "''')\n",
        "sql_ans_3.show()\n"
      ],
      "metadata": {
        "colab": {
          "base_uri": "https://localhost:8080/"
        },
        "collapsed": true,
        "id": "Y7wmP0KQoliU",
        "outputId": "e566ca6c-9c66-4e34-ed17-b2389b69a6b9"
      },
      "execution_count": 33,
      "outputs": [
        {
          "output_type": "stream",
          "name": "stdout",
          "text": [
            "+-----------+--------------------------+-----------------+\n",
            "|    country|count(DISTINCT ip_address)|count(ip_address)|\n",
            "+-----------+--------------------------+-----------------+\n",
            "|       Chad|                         1|                1|\n",
            "|     Russia|                        56|               56|\n",
            "|   Paraguay|                         1|                1|\n",
            "|      Yemen|                         1|                1|\n",
            "|     Sweden|                        28|               28|\n",
            "|Philippines|                        65|               65|\n",
            "|   Malaysia|                         5|                5|\n",
            "|     Turkey|                         1|                1|\n",
            "|     Malawi|                         2|                2|\n",
            "|    Germany|                         5|                5|\n",
            "|    Comoros|                         1|                1|\n",
            "|Afghanistan|                         5|                5|\n",
            "|     Rwanda|                         1|                1|\n",
            "|      Sudan|                         1|                1|\n",
            "|     France|                        21|               21|\n",
            "|     Greece|                         8|                8|\n",
            "|  Sri Lanka|                         3|                3|\n",
            "|   Dominica|                         1|                1|\n",
            "|  Argentina|                        14|               14|\n",
            "|    Belgium|                         1|                1|\n",
            "+-----------+--------------------------+-----------------+\n",
            "only showing top 20 rows\n",
            "\n"
          ]
        }
      ]
    }
  ]
}